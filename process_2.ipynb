{
 "cells": [
  {
   "cell_type": "markdown",
   "metadata": {},
   "source": [
    "请放到markdown文件夹下面使用~"
   ]
  },
  {
   "cell_type": "code",
   "execution_count": 5,
   "metadata": {},
   "outputs": [],
   "source": [
    "import os\n",
    "import re\n",
    "import requests\n",
    "\n",
    "def download_image(url, folder, counter):\n",
    "    # 确保文件夹存在\n",
    "    if not os.path.exists(folder):\n",
    "        os.makedirs(folder)\n",
    "    \n",
    "    # 初始化计数器\n",
    "    if not hasattr(download_image, \"image_counter\"):\n",
    "        download_image.image_counter = 0\n",
    "    \n",
    "    # 从URL获取图片内容\n",
    "    response = requests.get(url)\n",
    "    if response.status_code == 200:\n",
    "        # 构造文件名，添加序号以避免覆盖\n",
    "        filename = os.path.join(folder, f'image{download_image.image_counter:03d}.jpeg')\n",
    "        download_image.image_counter += 1\n",
    "        \n",
    "        # 保存图片\n",
    "        with open(filename, 'wb') as f:\n",
    "            f.write(response.content)\n",
    "        return filename\n",
    "    else:\n",
    "        print(\"Failed to download image: Status code\", response.status_code)\n",
    "        return None\n",
    "\n",
    "def extract_title_from_md_path(md_file_path):\n",
    "    # 从Markdown文件路径中提取标题\n",
    "    base_name = os.path.basename(md_file_path)\n",
    "    return os.path.splitext(base_name)[0]  # 移除扩展名\n",
    "\n",
    "def replace_image_links_in_md(md_file, img_folder):\n",
    "    # 提取文章标题\n",
    "    title = extract_title_from_md_path(md_file)\n",
    "    # 创建文章的独立图片文件夹\n",
    "    article_img_folder = os.path.join(img_folder, title)\n",
    "    # 读取Markdown文件\n",
    "    with open(md_file, 'r', encoding='utf-8') as f:\n",
    "        md_content = f.read()\n",
    "    \n",
    "    # 找到所有图片链接\n",
    "    img_links = re.findall(r'!\\[.*?\\]\\((https?://[^\\)]+)\\)', md_content)\n",
    "    \n",
    "    # 初始化计数器\n",
    "    image_counter = 0\n",
    "\n",
    "    # 替换链接\n",
    "    for link in img_links:\n",
    "        # 下载图片并获取本地路径\n",
    "        local_path = download_image(link, article_img_folder, image_counter)\n",
    "        if local_path:\n",
    "            # 构造新的Markdown链接\n",
    "            relative_path = os.path.relpath(local_path, img_folder)\n",
    "            new_link = f\"![{title}]({relative_path})\"\n",
    "            md_content = md_content.replace(link, new_link)\n",
    "        image_counter += 1  # 确保每次迭代计数器都递增\n",
    "    \n",
    "    # 写回Markdown文件\n",
    "    with open(md_file, 'w', encoding='utf-8') as f:\n",
    "        f.write(md_content)\n",
    "\n",
    "# 使用示例\n",
    "md_file_path = './20240504基于树莓派打造你的个人感知终端.md'  # 你的Markdown文件路径\n",
    "img_folder_path = './img'  # 图片保存的文件夹路径\n",
    "\n",
    "replace_image_links_in_md(md_file_path, img_folder_path)"
   ]
  }
 ],
 "metadata": {
  "kernelspec": {
   "display_name": "base",
   "language": "python",
   "name": "python3"
  },
  "language_info": {
   "codemirror_mode": {
    "name": "ipython",
    "version": 3
   },
   "file_extension": ".py",
   "mimetype": "text/x-python",
   "name": "python",
   "nbconvert_exporter": "python",
   "pygments_lexer": "ipython3",
   "version": "3.11.5"
  }
 },
 "nbformat": 4,
 "nbformat_minor": 2
}
